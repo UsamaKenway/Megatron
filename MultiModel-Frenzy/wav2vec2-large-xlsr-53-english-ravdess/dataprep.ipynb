{
 "cells": [
  {
   "cell_type": "code",
   "execution_count": 1,
   "id": "2b9eabd8-5982-4b0d-b417-44b3beb153f0",
   "metadata": {},
   "outputs": [
    {
     "name": "stderr",
     "output_type": "stream",
     "text": [
      "1440it [00:00, 2418.70it/s]"
     ]
    },
    {
     "name": "stdout",
     "output_type": "stream",
     "text": [
      "Total valid files: 960\n",
      "Train set: (768, 4)\n",
      "Test set: (192, 4)\n"
     ]
    },
    {
     "name": "stderr",
     "output_type": "stream",
     "text": [
      "\n"
     ]
    }
   ],
   "source": [
    "import numpy as np\n",
    "import pandas as pd\n",
    "from pathlib import Path\n",
    "from tqdm import tqdm\n",
    "import torchaudio\n",
    "import librosa\n",
    "import os\n",
    "from sklearn.model_selection import train_test_split\n",
    "\n",
    "# Emotion mapping from dataset description\n",
    "EMOTION_MAP = {\n",
    "    \"04\": \"sadness\",\n",
    "    \"05\": \"anger\",\n",
    "    \"03\": \"happiness\",\n",
    "    \"06\": \"fear\",\n",
    "    \"07\": \"disgust\"\n",
    "}\n",
    "\n",
    "# Statement mapping\n",
    "STATEMENT_MAP = {\n",
    "    \"01\": \"Kids are talking by the door\",\n",
    "    \"02\": \"Dogs are sitting by the door\"\n",
    "}\n",
    "\n",
    "data = []\n",
    "\n",
    "for path in tqdm(Path(\"RAVDESS_data\").glob(\"**/*.wav\")):\n",
    "    name = path.stem  # Get filename without extension\n",
    "    parts = name.split(\"-\")  # Split filename into parts\n",
    "    \n",
    "    if len(parts) < 7:\n",
    "        continue  # Skip invalid filenames\n",
    "    \n",
    "    modality, vocal_channel, emotion, intensity, statement, repetition, actor = parts\n",
    "    \n",
    "    if vocal_channel != \"01\":  # Only keep speech (01 = speech, 02 = song)\n",
    "        continue\n",
    "    \n",
    "    if emotion not in EMOTION_MAP:  # Filter only selected emotions\n",
    "        continue\n",
    "    \n",
    "    text = STATEMENT_MAP.get(statement, \"\")  # Get text from statement mapping\n",
    "    \n",
    "    try:\n",
    "        # Attempt to load the audio file to ensure it's valid\n",
    "        s, sr = torchaudio.load(path)\n",
    "        data.append({\n",
    "            \"name\": name,\n",
    "            \"path\": str(path),\n",
    "            \"emotion\": EMOTION_MAP[emotion],\n",
    "            \"text\": text\n",
    "        })\n",
    "    except Exception:\n",
    "        continue  # Skip if file is broken\n",
    "\n",
    "# Convert data to DataFrame\n",
    "df = pd.DataFrame(data)\n",
    "print(f\"Total valid files: {len(df)}\")\n",
    "\n",
    "# Shuffle dataset\n",
    "df = df.sample(frac=1, random_state=42).reset_index(drop=True)\n",
    "\n",
    "# Split into train and test\n",
    "train_df, test_df = train_test_split(df, test_size=0.2, random_state=101, stratify=df[\"emotion\"])\n",
    "\n",
    "# Save to CSV\n",
    "save_path = \"dataset\"\n",
    "os.makedirs(save_path, exist_ok=True)\n",
    "train_df.to_csv(f\"{save_path}/train.csv\", sep=\"\\t\", encoding=\"utf-8\", index=False)\n",
    "test_df.to_csv(f\"{save_path}/test.csv\", sep=\"\\t\", encoding=\"utf-8\", index=False)\n",
    "\n",
    "print(f\"Train set: {train_df.shape}\")\n",
    "print(f\"Test set: {test_df.shape}\")\n"
   ]
  },
  {
   "cell_type": "code",
   "execution_count": 4,
   "id": "6a0f301e-3dbd-4817-bee6-209b2eb1e0d1",
   "metadata": {},
   "outputs": [
    {
     "data": {
      "text/plain": [
       "emotion\n",
       "anger        154\n",
       "fear         154\n",
       "sadness      154\n",
       "happiness    153\n",
       "disgust      153\n",
       "Name: count, dtype: int64"
      ]
     },
     "execution_count": 4,
     "metadata": {},
     "output_type": "execute_result"
    }
   ],
   "source": [
    "import pandas as pd \n",
    "pd.read_csv(\"dataset/train.csv\", delimiter=\"\\t\")['emotion'].value_counts()"
   ]
  },
  {
   "cell_type": "code",
   "execution_count": 5,
   "id": "2f231515-c921-4ced-80f4-6e1f9017d806",
   "metadata": {},
   "outputs": [
    {
     "data": {
      "text/plain": [
       "emotion\n",
       "disgust      39\n",
       "happiness    39\n",
       "fear         38\n",
       "sadness      38\n",
       "anger        38\n",
       "Name: count, dtype: int64"
      ]
     },
     "execution_count": 5,
     "metadata": {},
     "output_type": "execute_result"
    }
   ],
   "source": [
    "\n",
    "pd.read_csv(\"dataset/test.csv\", delimiter=\"\\t\")['emotion'].value_counts()"
   ]
  },
  {
   "cell_type": "code",
   "execution_count": null,
   "id": "6ec62267-79ca-4500-b107-7d4708226207",
   "metadata": {},
   "outputs": [],
   "source": []
  }
 ],
 "metadata": {
  "kernelspec": {
   "display_name": "Python 3 (ipykernel)",
   "language": "python",
   "name": "python3"
  },
  "language_info": {
   "codemirror_mode": {
    "name": "ipython",
    "version": 3
   },
   "file_extension": ".py",
   "mimetype": "text/x-python",
   "name": "python",
   "nbconvert_exporter": "python",
   "pygments_lexer": "ipython3",
   "version": "3.11.0"
  }
 },
 "nbformat": 4,
 "nbformat_minor": 5
}
